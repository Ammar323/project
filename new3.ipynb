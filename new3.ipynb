{
 "cells": [
  {
   "cell_type": "code",
   "execution_count": 12,
   "id": "b2866863",
   "metadata": {},
   "outputs": [
    {
     "name": "stdout",
     "output_type": "stream",
     "text": [
      "{1: 'ammar', 2: 'fahsee'}\n",
      "{1: 'ammar', 2: 'fahsee', 3: 'sabtain'}\n"
     ]
    }
   ],
   "source": [
    "dic = {1 :\"ammar\" , 2 : \"fahsee\"}\n",
    "print(dic)\n",
    "dic.update({3 : \"sabtain\"})\n",
    "print(dic)"
   ]
  },
  {
   "cell_type": "code",
   "execution_count": 18,
   "id": "d9943a34",
   "metadata": {},
   "outputs": [
    {
     "name": "stdout",
     "output_type": "stream",
     "text": [
      "6\n"
     ]
    }
   ],
   "source": [
    "numdic = {'1': 1 , '2' : 2 , '3' : 3 }\n",
    "print(sum(numdic.values()))\n",
    "        "
   ]
  },
  {
   "cell_type": "code",
   "execution_count": 22,
   "id": "5b077a5e",
   "metadata": {},
   "outputs": [
    {
     "name": "stdout",
     "output_type": "stream",
     "text": [
      "2\n",
      "3\n",
      "4\n",
      "5\n"
     ]
    }
   ],
   "source": [
    "l=[1,2,3,4,5,2,3,4,7,9,5]\n",
    "l1=[]\n",
    "for i in l:\n",
    "    if i not in l1:\n",
    "        l1.append(i)\n",
    "    else:\n",
    "        print(i)"
   ]
  },
  {
   "cell_type": "code",
   "execution_count": 24,
   "id": "ad6378a4",
   "metadata": {},
   "outputs": [
    {
     "name": "stdout",
     "output_type": "stream",
     "text": [
      "3\n",
      "4\n"
     ]
    }
   ],
   "source": [
    " list = [\"apple\" , \"nissan\" , 3 , \"bolean\" , 4]\n",
    "for i in list:\n",
    "    if type(i) == int :\n",
    "        print(i)"
   ]
  },
  {
   "cell_type": "code",
   "execution_count": null,
   "id": "d57da8af",
   "metadata": {},
   "outputs": [],
   "source": [
    "num1 = int(input(\"Enter the number for operation : \"))\n",
    "power = input(\"If you want to do power operation then write '1'. \\n if you want to do simple calculation then write '0' : \")\n",
    "if power == \"1\":\n",
    "    poor = int(input(\"Enter the power value : \"))\n",
    "    expon = 1\n",
    "    \n",
    "    for i in range(1,poor+1):\n",
    "        expon = expon*num1\n",
    "    print(\"your answer of power of\",num1,\"^\",poor,\"is : \",expon)\n",
    "\n",
    "elif power == \"0\":\n",
    "    operator = input(\"Enter operator : \")\n",
    "    if operator == \"+\" or \"-\" or \"/\" or \"*\":\n",
    "        num2 = int(input(\"Enter the second number for operation : \"))\n",
    "        if operator == \"+\":\n",
    "            total = num1 + num2\n",
    "        elif operator == \"-\":\n",
    "            total = num1 - num2\n",
    "        elif operator == \"/\":\n",
    "            total = num1 / num2\n",
    "        elif operator == \"*\":\n",
    "            total = num1 * num2\n",
    "    print(\"your answer is : \",total)"
   ]
  },
  {
   "cell_type": "code",
   "execution_count": null,
   "id": "e4aaa2c2",
   "metadata": {},
   "outputs": [],
   "source": [
    "x = int(input(\"enter number\"))\n",
    "d = {1: 10, 2: 20, 3: 30, 4: 40, 5: 50, 6: 60}\n",
    "def is_key_present(x):\n",
    "    if x in d:\n",
    "        print('Key is present in the dictionary')\n",
    "    else:\n",
    "        print('Key is not present in the dictionary')\n",
    "is_key_present(x)\n",
    "\n"
   ]
  }
 ],
 "metadata": {
  "kernelspec": {
   "display_name": "Python 3",
   "language": "python",
   "name": "python3"
  },
  "language_info": {
   "codemirror_mode": {
    "name": "ipython",
    "version": 3
   },
   "file_extension": ".py",
   "mimetype": "text/x-python",
   "name": "python",
   "nbconvert_exporter": "python",
   "pygments_lexer": "ipython3",
   "version": "3.8.8"
  }
 },
 "nbformat": 4,
 "nbformat_minor": 5
}
