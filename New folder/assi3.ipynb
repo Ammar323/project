{
 "cells": [
  {
   "cell_type": "code",
   "execution_count": 1,
   "id": "1fe062bb",
   "metadata": {},
   "outputs": [
    {
     "name": "stdout",
     "output_type": "stream",
     "text": [
      "Twinkle, twinkle, little star,\n",
      "         How I wonder what you are!\n",
      "                Up above the world so high,\n",
      "                Like a diamond in the sky.\n",
      "Twinkle, twinkle, little star,\n",
      "         How I wonder what you are\n"
     ]
    }
   ],
   "source": [
    "#1. Write a Python program to print the following string in a specific format (see the\n",
    "#output).\n",
    "\n",
    "#Twinkle, twinkle, little star,\n",
    "#         How I wonder what you are!\n",
    "#                Up above the world so high,\n",
    "#                Like a diamond in the sky.\n",
    "\n",
    "#Twinkle, twinkle, little star,\n",
    "#         How I wonder what you are\n",
    "print(\"Twinkle, twinkle, little star,\");\n",
    "print(\"         How I wonder what you are!\")\n",
    "print(\"                Up above the world so high,\")\n",
    "print(\"                Like a diamond in the sky.\")\n",
    "print(\"Twinkle, twinkle, little star,\");\n",
    "print(\"         How I wonder what you are\");"
   ]
  },
  {
   "cell_type": "code",
   "execution_count": 2,
   "id": "fc5a5d48",
   "metadata": {},
   "outputs": [
    {
     "name": "stdout",
     "output_type": "stream",
     "text": [
      "python version\n",
      "3.8.8 (default, Apr 13 2021, 15:08:03) [MSC v.1916 64 bit (AMD64)]\n"
     ]
    }
   ],
   "source": [
    "#2. Write a Python program to get the Python version you are using\n",
    "\n",
    "import sys\n",
    "print(\"python version\");\n",
    "print(sys.version)"
   ]
  },
  {
   "cell_type": "code",
   "execution_count": 3,
   "id": "e6110326",
   "metadata": {},
   "outputs": [
    {
     "name": "stdout",
     "output_type": "stream",
     "text": [
      "2021-10-24 04:43:05.687879\n"
     ]
    }
   ],
   "source": [
    "#3. Write a Python program to display the current date and time.\n",
    "\n",
    "import datetime \n",
    "num = datetime.datetime.now() \n",
    "print (num)"
   ]
  },
  {
   "cell_type": "code",
   "execution_count": 4,
   "id": "1d471a0f",
   "metadata": {},
   "outputs": [
    {
     "name": "stdout",
     "output_type": "stream",
     "text": [
      "Enter radius: 2\n",
      " Area :  25.12\n"
     ]
    }
   ],
   "source": [
    "#4. Write a Python program which accepts the radius of a circle from the user and compute\n",
    "#the area.\n",
    "pi = (3.14)*2\n",
    "r = int(input(\"Enter radius: \"))\n",
    "R = r*r\n",
    "area = pi*R\n",
    "print(\" Area : \",area)"
   ]
  },
  {
   "cell_type": "code",
   "execution_count": 8,
   "id": "8ebdb933",
   "metadata": {},
   "outputs": [
    {
     "name": "stdout",
     "output_type": "stream",
     "text": [
      "first name: ammar\n",
      "last name : rahim\n",
      "rahim ammar\n"
     ]
    }
   ],
   "source": [
    "#5. Write a Python program which accepts the user's first and last name and print them in\n",
    "#reverse order with a space between them.\n",
    "first_name = input(\"first name: \")\n",
    "last_name = input(\"last name : \")\n",
    "print(last_name +\" \"+first_name )"
   ]
  },
  {
   "cell_type": "code",
   "execution_count": 9,
   "id": "44428a40",
   "metadata": {},
   "outputs": [
    {
     "name": "stdout",
     "output_type": "stream",
     "text": [
      "write a number : 3\n",
      "write a second number : 3\n",
      "the sum of number is :  6\n"
     ]
    }
   ],
   "source": [
    "#6. Write a python program which takes two inputs from user and print them addition.\n",
    "f = int(input(\"write a number : \"))\n",
    "m = int(input(\"write a second number : \"))\n",
    "print(\"the sum of number is : \",m+f)"
   ]
  },
  {
   "cell_type": "code",
   "execution_count": 13,
   "id": "0d4f3b7e",
   "metadata": {},
   "outputs": [
    {
     "name": "stdout",
     "output_type": "stream",
     "text": [
      "write the marks of English : 50\n",
      "write the marks of Urdu : 60\n",
      "write the marks of Islamiat : 70\n",
      "write the marks of Chemistry : 80\n",
      "write the marks of Physics : 50\n",
      "you get B grade \n"
     ]
    }
   ],
   "source": [
    "\n",
    "#7. Write a program which takes 5 inputs from user for different subject’s marks, total it \n",
    "#and generate mark sheet using grades ?\n",
    "english = int(input(\"write the marks of English : \"))\n",
    "if english<33:\n",
    "    print(\"you are fail in it\")\n",
    "Urdu = int(input(\"write the marks of Urdu : \"))\n",
    "if Urdu<33:\n",
    "    print(\"you are fail in it\")\n",
    "Islamiat = int(input(\"write the marks of Islamiat : \"))\n",
    "if Islamiat<33:\n",
    "    print(\"you are fail in it\")\n",
    "Chemistry = int(input(\"write the marks of Chemistry : \"))\n",
    "if Chemistry<33:\n",
    "     print(\"you are fail in it\")\n",
    "Physics = int(input(\"write the marks of Physics : \"))\n",
    "if Physics<33:\n",
    "    print(\"you are fail in it\")\n",
    "total = english + Urdu + Islamiat + Chemistry + Physics\n",
    "D =33\n",
    "C =50\n",
    "B=60\n",
    "A=70\n",
    "Aplus=80\n",
    "ttl = (total/500)*100\n",
    "    \n",
    "if ttl >= Aplus:\n",
    "    print(\"you get A+ grade \")\n",
    "elif ttl>=A :\n",
    "    print(\"you get A grade \")\n",
    "elif ttl>=B  :\n",
    "    print(\"you get B grade \")\n",
    "elif ttl>=C :\n",
    "    print(\"you get C grade \")\n",
    "elif ttl>=D :\n",
    "    print(\"you get D grade \")\n",
    "    \n",
    "elif ttl<D :\n",
    "    print(\"you are fail :  \")\n"
   ]
  },
  {
   "cell_type": "code",
   "execution_count": 14,
   "id": "130f4daa",
   "metadata": {},
   "outputs": [
    {
     "name": "stdout",
     "output_type": "stream",
     "text": [
      "write a number for chacking even and odd : 5\n",
      "it is odd :  5\n"
     ]
    }
   ],
   "source": [
    "#8. Write a program which take input from user and identify that the given number is even\n",
    "#or odd?\n",
    "m = int(input(\"write a number for chacking even and odd : \"))\n",
    "n = m % 2\n",
    "if n==0:\n",
    "    print(\"it is even number : \",m)\n",
    "else:\n",
    "    print(\"it is odd : \", m)"
   ]
  },
  {
   "cell_type": "code",
   "execution_count": 15,
   "id": "3a9e4297",
   "metadata": {},
   "outputs": [
    {
     "name": "stdout",
     "output_type": "stream",
     "text": [
      "5\n"
     ]
    }
   ],
   "source": [
    "#9. Write a program which print the length of the list?\n",
    "arr=[\"banana\",\"apple\",\"cycle\",\"toy\",\"boy\"]\n",
    "print(len(arr))"
   ]
  },
  {
   "cell_type": "code",
   "execution_count": 16,
   "id": "9e7f32b4",
   "metadata": {},
   "outputs": [
    {
     "name": "stdout",
     "output_type": "stream",
     "text": [
      "82\n"
     ]
    }
   ],
   "source": [
    "#10.Write a Python program to sum all the numeric items in a list?\n",
    "ARR = [1,3,6,8,9,8,6,5,4,32]\n",
    "sum=0\n",
    "for i in ARR:\n",
    "    sum = sum + i;\n",
    "print(sum)"
   ]
  },
  {
   "cell_type": "code",
   "execution_count": 17,
   "id": "9136d3b6",
   "metadata": {},
   "outputs": [
    {
     "name": "stdout",
     "output_type": "stream",
     "text": [
      "32\n"
     ]
    }
   ],
   "source": [
    "#11.Write a Python program to get the largest number from a numeric list.\n",
    "ARR = [1,3,6,8,9,8,6,5,4,32]\n",
    "sum=0\n",
    "for i in ARR:\n",
    "    if sum<i:\n",
    "        sum = i;\n",
    "print(sum)"
   ]
  },
  {
   "cell_type": "code",
   "execution_count": 18,
   "id": "101569a5",
   "metadata": {},
   "outputs": [
    {
     "name": "stdout",
     "output_type": "stream",
     "text": [
      "[1, 1, 2, 3]\n"
     ]
    }
   ],
   "source": [
    "#12. Take a list, say for example this one:\n",
    "a = [1, 1, 2, 3, 5, 8, 13, 21, 34, 55, 89]\n",
    "#Write a program that prints out all the elements of the list that are less than 5.\n",
    "q=[]\n",
    "for i in a:\n",
    "    if i<5:\n",
    "        q.append(i)\n",
    "print(q)"
   ]
  },
  {
   "cell_type": "code",
   "execution_count": null,
   "id": "11f2df5b",
   "metadata": {},
   "outputs": [],
   "source": []
  }
 ],
 "metadata": {
  "kernelspec": {
   "display_name": "Python 3",
   "language": "python",
   "name": "python3"
  },
  "language_info": {
   "codemirror_mode": {
    "name": "ipython",
    "version": 3
   },
   "file_extension": ".py",
   "mimetype": "text/x-python",
   "name": "python",
   "nbconvert_exporter": "python",
   "pygments_lexer": "ipython3",
   "version": "3.8.8"
  }
 },
 "nbformat": 4,
 "nbformat_minor": 5
}
